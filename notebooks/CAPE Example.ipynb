{
 "cells": [
  {
   "cell_type": "code",
   "execution_count": null,
   "metadata": {},
   "outputs": [],
   "source": [
    "from __future__ import print_function\n",
    "import os\n",
    "from netCDF4 import Dataset\n",
    "import matplotlib\n",
    "import matplotlib.pyplot as plt\n",
    "from matplotlib.cm import get_cmap\n",
    "import cartopy.crs as crs\n",
    "from cartopy.feature import NaturalEarthFeature\n",
    "from wrf import to_np, getvar, smooth2d, get_cartopy, cartopy_xlim, cartopy_ylim, latlon_coords, disable_xarray\n",
    "%matplotlib notebook"
   ]
  },
  {
   "cell_type": "code",
   "execution_count": null,
   "metadata": {
    "collapsed": true
   },
   "outputs": [],
   "source": [
    "# Set up the base output directory, the time we want to look at, and the member number we want to plot\n",
    "# Note, for your stuff you may want to modify this to loop through various members, calculate averages, etc.\n",
    "# Please experiment!\n",
    "outputbasedir = '/depot/dawson29/data/082416_tornado_outbreak/simulations/WRFDART/15km1hr/output'\n",
    "timestamp = '2016082420'\n",
    "member = 1"
   ]
  },
  {
   "cell_type": "code",
   "execution_count": null,
   "metadata": {},
   "outputs": [],
   "source": [
    "# Construct the full path to the file\n",
    "outputdir = os.path.join(outputbasedir, timestamp)\n",
    "outputdir = os.path.join(outputdir, \"PRIORS\")\n",
    "filename = 'prior_d01.{:04d}'.format(member)\n",
    "filepath = os.path.join(outputdir, filename)\n",
    "\n",
    "# Make sure the path exists. If this comes out False, something's wrong.\n",
    "print(os.path.exists(filepath))"
   ]
  },
  {
   "cell_type": "code",
   "execution_count": null,
   "metadata": {},
   "outputs": [],
   "source": [
    "# Open the NetCDF file\n",
    "ncfile = Dataset(filepath)\n",
    "\n",
    "# Calculate and retrieve CAPE\n",
    "cape_package = getvar(ncfile, 'cape2d')\n",
    "cape = cape_package[0]"
   ]
  },
  {
   "cell_type": "code",
   "execution_count": null,
   "metadata": {
    "collapsed": true
   },
   "outputs": [],
   "source": [
    "# Get the latitude and longitude points\n",
    "lats, lons = latlon_coords(cape)\n",
    "# Get the cartopy mapping object\n",
    "cart_proj = get_cartopy(cape)"
   ]
  },
  {
   "cell_type": "code",
   "execution_count": null,
   "metadata": {},
   "outputs": [],
   "source": [
    "# Create a figure\n",
    "fig = plt.figure(figsize=(12,9))\n",
    "# Set the GeoAxes to the projection used by WRF\n",
    "ax = plt.axes(projection=cart_proj)\n",
    "\n",
    "# Download and add the states and coastlines\n",
    "states = NaturalEarthFeature(category='cultural', scale='50m', edgecolor='k', facecolor='none',\n",
    "                             name='admin_1_states_provinces_shp')\n",
    "ax.add_feature(states, linewidth=.5)\n",
    "ax.coastlines('50m', linewidth=0.8)\n",
    "\n",
    "# Make the contour outlines and filled contours for the smoothed sea level pressure.\n",
    "plt.contour(to_np(lons), to_np(lats), to_np(cape), 10, colors=\"black\",\n",
    "            transform=crs.PlateCarree())\n",
    "plt.contourf(to_np(lons), to_np(lats), to_np(cape), 10, transform=crs.PlateCarree(),\n",
    "             cmap=get_cmap(\"jet\"))\n",
    "\n",
    "# Add a color bar\n",
    "plt.colorbar(ax=ax, shrink=.62)\n",
    "\n",
    "# Set the map limits.  Not really necessary, but used for demonstration.\n",
    "ax.set_xlim(0,1900000)\n",
    "ax.set_ylim(-750000,1100000)\n",
    "\n",
    "# Add the gridlines\n",
    "ax.gridlines(color=\"black\", linestyle=\"dotted\")\n",
    "\n",
    "plt.title(\"CAPE J/kg\")"
   ]
  },
  {
   "cell_type": "code",
   "execution_count": null,
   "metadata": {
    "collapsed": true
   },
   "outputs": [],
   "source": []
  }
 ],
 "metadata": {
  "kernelspec": {
   "display_name": "Python [conda env: py36_wrfpython]",
   "language": "python",
   "name": "conda-env-py36_wrfpython-py"
  },
  "language_info": {
   "codemirror_mode": {
    "name": "ipython",
    "version": 3
   },
   "file_extension": ".py",
   "mimetype": "text/x-python",
   "name": "python",
   "nbconvert_exporter": "python",
   "pygments_lexer": "ipython3",
   "version": "3.6.6"
  }
 },
 "nbformat": 4,
 "nbformat_minor": 2
}
